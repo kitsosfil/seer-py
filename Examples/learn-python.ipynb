{
 "cells": [
  {
   "cell_type": "markdown",
   "metadata": {},
   "source": [
    "# Welcome to Python!\n",
    "*David Norrish, December 2019*\n",
    "\n",
    "If this if your first time using Jupyter and/or Python, congratulations that you've made it this far.\n",
    "\n",
    "### Itinerary for today\n",
    "I have no idea how far we'll get, but here's the road map\n",
    "\n",
    "1. Packages and environments: Anaconda & pip\n",
    "1. Python\n",
    "1. Code quality: YAPF & Pylint\n",
    "1. Data wrangling: Numpy & Pandas\n",
    "1. Seer-py\n",
    "1. Plotting"
   ]
  },
  {
   "cell_type": "code",
   "execution_count": null,
   "metadata": {},
   "outputs": [],
   "source": [
    "print(\"Let's go!\")"
   ]
  },
  {
   "cell_type": "markdown",
   "metadata": {},
   "source": [
    "## 1. Packages and environments: Anaconda & pip\n",
    "### 1.1. System Python vs virtual environments\n",
    "- Unix systems come pre-installed with a Python (I don't think Windows does?)\n",
    "- This is the \"system\" Python - it should never be meddled with!\n",
    "- Instead, create **virtual environments** to manage projects and packages\n",
    "  - **node_modules** vs Python paths\n",
    "\n",
    "### 1.2. Virtual environments\n",
    "- There are at least half a dozen widely used virtual environment management tools in Python - it's a bit of a mess\n",
    "- Possibly the most widely used in scientific computing (and the easiest to get started with) is [Anaconda](https://docs.anaconda.com/anaconda/install/)\n",
    "  - environment manager (conda - like `NVM`)\n",
    "  - Python & scientific computing packages\n",
    "  - (package manager*)\n",
    "\n",
    "Playing with environments:\n",
    "\n",
    "    conda info --envs\n",
    "    conda create --name testenv python=3.7\n",
    "    conda activate testenv"
   ]
  },
  {
   "cell_type": "markdown",
   "metadata": {},
   "source": [
    "### 1.3. Packages\n",
    "- For installing packages, the go-to method is the much-beloved `pip` (\"Pip installs packages\")\n",
    "  - Cf. `NPM`\n",
    "- Can install anything hosted on the [PyPI (Python Package Index](https://pypi.org/).\n",
    "\n",
    "See current packages:\n",
    "\n",
    "    pip freeze\n",
    "\n",
    "Install some more:\n",
    "\n",
    "    pip install numpy pandas\n",
    "    pip install -r requirements.txt"
   ]
  },
  {
   "cell_type": "markdown",
   "metadata": {},
   "source": [
    "### 1.4. Jupyter tips and tricks\n",
    "\n",
    "- State is shared across all cells - enjoy/beware!\n",
    "- Files are saved as long gross JSON files that change every time you execute a cell\n",
    "  - BAD for version control: large files, merge conflict hell, all data retained in notebook\n",
    "  - Best used for RnD, refactoring valuable code into modules\n",
    "  - A recommended practice is to have two types of notebook:\n",
    "    - Owned by owned by one person (with their initials prepended to filename) - no one else touch\n",
    "    - Report/demonstration notebooks - refined by multiple people, but careful with version control & file sizes\n",
    "\n",
    "function                | shortcut\n",
    "------------------------|---------------------\n",
    "execute a cell          | ctrl + enter (stay on cell) / ctrl + shift (move to next cell)\n",
    "create a new cell       | a (above) / b (below)\n",
    "copy a cell             | c\n",
    "paste a cell            | v\n",
    "cut a cell              | x\n",
    "undo copy/paste/cut     | z\n",
    "delete a cell           | dd\n",
    "hide left side-bar      | cmd + b\n",
    "show function docstring | shift + tab (while keyboard cursor in function)\n",
    "\n",
    "`Jupyter` is based on `iPython`, an improved Python REPL with tab complete, history & [magic commands](https://ipython.readthedocs.io/en/stable/interactive/magics.html). I recommend `iPython` this for command-line Python fun times."
   ]
  },
  {
   "cell_type": "markdown",
   "metadata": {},
   "source": [
    "Here's an example of a useful magic command - this forces reloading of any imported packaged every time before executing code. This is essention if you're editing code in another module that you're importing here/"
   ]
  },
  {
   "cell_type": "code",
   "execution_count": null,
   "metadata": {},
   "outputs": [],
   "source": [
    "%load_ext autoreload\n",
    "%autoreload 2"
   ]
  },
  {
   "cell_type": "markdown",
   "metadata": {},
   "source": [
    "## 2. Python"
   ]
  },
  {
   "cell_type": "markdown",
   "metadata": {},
   "source": [
    "Some major language points:\n",
    "\n",
    "- dynamic weakly typed BUT\n",
    "- object-oriented, procedural, (functional if you like - I mostly do)\n",
    "- standard implementation is Cpython\n",
    "  - written in C\n",
    "  - interpreted scripting language\n",
    "  - so slow*, especially loops and especially recursion\n",
    "  - Cf. pypy (pure Python, JIT compiled), Cython (statically typed and pre-compiled)"
   ]
  },
  {
   "cell_type": "markdown",
   "metadata": {},
   "source": [
    "### 2.1 Getting started: Types"
   ]
  },
  {
   "cell_type": "markdown",
   "metadata": {},
   "source": [
    "Note that in Python everything is an object. As such there are no true \"primitive\" data types.\n",
    "\n",
    "- Numeric: `float`, `int` (yay, fewer floating-point annoyances!)\n",
    "- String: `str`\n",
    "- Boolean: `bool`\n",
    "- Containers: `list`, `dict`, `set`, `tuple`, (`frozenset`)\n",
    "\n",
    "NB `dict` and `set` are basically hash tables. `list` is a linked list."
   ]
  },
  {
   "cell_type": "markdown",
   "metadata": {},
   "source": [
    "#### 2.1.1. Numeric types"
   ]
  },
  {
   "cell_type": "code",
   "execution_count": null,
   "metadata": {},
   "outputs": [],
   "source": [
    "3 == 3.0"
   ]
  },
  {
   "cell_type": "code",
   "execution_count": null,
   "metadata": {},
   "outputs": [],
   "source": [
    "4 * 2 + 7"
   ]
  },
  {
   "cell_type": "code",
   "execution_count": null,
   "metadata": {},
   "outputs": [],
   "source": [
    "4 * 2.5"
   ]
  },
  {
   "cell_type": "code",
   "execution_count": null,
   "metadata": {},
   "outputs": [],
   "source": [
    "1e2 / 5"
   ]
  },
  {
   "cell_type": "code",
   "execution_count": null,
   "metadata": {},
   "outputs": [],
   "source": [
    "int(20.3)"
   ]
  },
  {
   "cell_type": "code",
   "execution_count": null,
   "metadata": {},
   "outputs": [],
   "source": [
    "# Modulo\n",
    "7 % 3"
   ]
  },
  {
   "cell_type": "code",
   "execution_count": null,
   "metadata": {},
   "outputs": [],
   "source": [
    "import math\n",
    "\n",
    "radius = 5\n",
    "(math.pi * 5)**2"
   ]
  },
  {
   "cell_type": "code",
   "execution_count": null,
   "metadata": {},
   "outputs": [],
   "source": [
    "math.cos(2 * math.pi)"
   ]
  },
  {
   "cell_type": "markdown",
   "metadata": {},
   "source": [
    "#### 2.1.2. Strings"
   ]
  },
  {
   "cell_type": "code",
   "execution_count": null,
   "metadata": {},
   "outputs": [],
   "source": [
    "food = 'quarter pounder with cheese'\n",
    "food.title()"
   ]
  },
  {
   "cell_type": "code",
   "execution_count": null,
   "metadata": {},
   "outputs": [],
   "source": [
    "print(food + \" weighs ~0.25 pounds\")\n",
    "food"
   ]
  },
  {
   "cell_type": "code",
   "execution_count": null,
   "metadata": {},
   "outputs": [],
   "source": [
    "\"pound\" in food"
   ]
  },
  {
   "cell_type": "code",
   "execution_count": null,
   "metadata": {},
   "outputs": [],
   "source": [
    "# Test whether all whitespace\n",
    "food.isspace()"
   ]
  },
  {
   "cell_type": "code",
   "execution_count": null,
   "metadata": {},
   "outputs": [],
   "source": [
    "food.replace(' ', ' ~!~ ')"
   ]
  },
  {
   "cell_type": "code",
   "execution_count": null,
   "metadata": {},
   "outputs": [],
   "source": [
    "food[:15]"
   ]
  },
  {
   "cell_type": "code",
   "execution_count": null,
   "metadata": {},
   "outputs": [],
   "source": [
    "food[-6:]"
   ]
  },
  {
   "cell_type": "markdown",
   "metadata": {},
   "source": [
    "#### 2.1.3 Lists and tuples\n",
    "\n",
    "- `Lists` are mutable (so easy to extend and modify), and are generally used for series of a given object type (e.g. a list of names or numbers)\n",
    "- `Tuples` are immutable and generally used for mixed data type of fixed length."
   ]
  },
  {
   "cell_type": "code",
   "execution_count": null,
   "metadata": {},
   "outputs": [],
   "source": [
    "words = food.split(' ')\n",
    "print(words)\n",
    "type(words)"
   ]
  },
  {
   "cell_type": "code",
   "execution_count": null,
   "metadata": {},
   "outputs": [],
   "source": [
    "len(words)"
   ]
  },
  {
   "cell_type": "code",
   "execution_count": null,
   "metadata": {},
   "outputs": [],
   "source": [
    "# Python uses 0-indexing\n",
    "words[0]"
   ]
  },
  {
   "cell_type": "code",
   "execution_count": null,
   "metadata": {},
   "outputs": [],
   "source": [
    "words[-2]"
   ]
  },
  {
   "cell_type": "code",
   "execution_count": null,
   "metadata": {},
   "outputs": [],
   "source": [
    "some_words = words[1:3]\n",
    "some_words"
   ]
  },
  {
   "cell_type": "code",
   "execution_count": null,
   "metadata": {},
   "outputs": [],
   "source": [
    "# Mutability\n",
    "words[0] = 'half'\n",
    "words.append('and')\n",
    "words.append('pickles')\n",
    "words.insert(2, 'lettuce')\n",
    "words"
   ]
  },
  {
   "cell_type": "code",
   "execution_count": null,
   "metadata": {},
   "outputs": [],
   "source": [
    "# You can extend lists using list1.extend(list2), or simply:\n",
    "words + ['MORE', 'WORDS']"
   ]
  },
  {
   "cell_type": "markdown",
   "metadata": {},
   "source": [
    "You can sort a list by calling its `sort` method, or using the `sorted` command.\n",
    "\n",
    "Somewhat confusingly, the former is an in-place operation whereas the latter returns a new object."
   ]
  },
  {
   "cell_type": "code",
   "execution_count": null,
   "metadata": {},
   "outputs": [],
   "source": [
    "words.sort()\n",
    "words"
   ]
  },
  {
   "cell_type": "code",
   "execution_count": null,
   "metadata": {},
   "outputs": [],
   "source": [
    "other_words = 'A man, a plan, a canal: Panama'.split()\n",
    "other_words"
   ]
  },
  {
   "cell_type": "code",
   "execution_count": null,
   "metadata": {},
   "outputs": [],
   "source": [
    "other_words_sorted = sorted(other_words)\n",
    "print(other_words)\n",
    "other_words_sorted"
   ]
  },
  {
   "cell_type": "code",
   "execution_count": null,
   "metadata": {},
   "outputs": [],
   "source": [
    "words.reverse()\n",
    "words"
   ]
  },
  {
   "cell_type": "code",
   "execution_count": null,
   "metadata": {},
   "outputs": [],
   "source": [
    "popped = words.pop()\n",
    "print(popped, '-', words)"
   ]
  },
  {
   "cell_type": "code",
   "execution_count": null,
   "metadata": {},
   "outputs": [],
   "source": [
    "print('pickles' in words)\n",
    "print(popped in words)"
   ]
  },
  {
   "cell_type": "markdown",
   "metadata": {},
   "source": [
    "Tuples! Very similar to lists but immutable"
   ]
  },
  {
   "cell_type": "code",
   "execution_count": null,
   "metadata": {},
   "outputs": [],
   "source": [
    "# A tuple of (taxa, number of legs, whether drinks blood)\n",
    "cat = ('Mammalia', 4, False)\n",
    "tick = ('Arachnida', 8, True)\n",
    "starfish = ('Asteroidea', 5, True)"
   ]
  },
  {
   "cell_type": "code",
   "execution_count": null,
   "metadata": {},
   "outputs": [],
   "source": [
    "print(\"Guess the animal!\\n\")\n",
    "for animal in [cat, tick, starfish]:\n",
    "    print(\"I am class\", animal[0], \"have\", animal[1], \"legs, and\", \"do\" if animal[2] else \"don't\", \"drink blood\")"
   ]
  },
  {
   "cell_type": "code",
   "execution_count": null,
   "metadata": {},
   "outputs": [],
   "source": [
    "# Our starfish lost an arm\n",
    "try:\n",
    "    starfish[1] = 4\n",
    "except TypeError as err:\n",
    "    print(\"Error:\", err)"
   ]
  },
  {
   "cell_type": "code",
   "execution_count": null,
   "metadata": {},
   "outputs": [],
   "source": [
    "starlist = list(starfish)\n",
    "starlist[1] = 4\n",
    "starlist"
   ]
  },
  {
   "cell_type": "markdown",
   "metadata": {},
   "source": [
    "#### 2.1.4. Dictionaries & Sets\n",
    "- *O(1)* lookup time"
   ]
  },
  {
   "cell_type": "code",
   "execution_count": null,
   "metadata": {},
   "outputs": [],
   "source": [
    "pantry = {\n",
    "    'can of chickpeas': 3,\n",
    "    'cheese': 1,\n",
    "    'milk carton': 2\n",
    "}\n",
    "\n",
    "pantry"
   ]
  },
  {
   "cell_type": "code",
   "execution_count": null,
   "metadata": {},
   "outputs": [],
   "source": [
    "pantry['apples'] = 5\n",
    "pantry"
   ]
  },
  {
   "cell_type": "code",
   "execution_count": null,
   "metadata": {},
   "outputs": [],
   "source": [
    "pantry['milk carton'] -= 1\n",
    "pantry"
   ]
  },
  {
   "cell_type": "code",
   "execution_count": null,
   "metadata": {},
   "outputs": [],
   "source": [
    "# A set\n",
    "fruit = {'apple', 'banana', 'strawberry'}\n",
    "fruit"
   ]
  },
  {
   "cell_type": "code",
   "execution_count": null,
   "metadata": {},
   "outputs": [],
   "source": [
    "# Alternative construction\n",
    "fruit == set(['banana', 'apple', 'strawberry'])"
   ]
  },
  {
   "cell_type": "code",
   "execution_count": null,
   "metadata": {},
   "outputs": [],
   "source": [
    "popped = fruit.pop()\n",
    "print(popped, \"-\", fruit)"
   ]
  },
  {
   "cell_type": "code",
   "execution_count": null,
   "metadata": {},
   "outputs": [],
   "source": [
    "{'strawberry', 'apple', 'pineapple'} - fruit"
   ]
  },
  {
   "cell_type": "code",
   "execution_count": null,
   "metadata": {},
   "outputs": [],
   "source": [
    "try:\n",
    "    pantry[fruit] = 1\n",
    "except TypeError as error:\n",
    "    print(\"Error!:\", error)"
   ]
  },
  {
   "cell_type": "markdown",
   "metadata": {},
   "source": [
    "Dictionary keys must be immutable, so cannot be anything like a list or set."
   ]
  },
  {
   "cell_type": "code",
   "execution_count": null,
   "metadata": {},
   "outputs": [],
   "source": [
    "pantry[frozenset(fruit)] = 2\n",
    "pantry"
   ]
  },
  {
   "cell_type": "markdown",
   "metadata": {},
   "source": [
    "### 2.2. Functions\n",
    "- Functions are defined with the `def` keyword, a function name, braces containing any parameters, a colon, and an indented block\n",
    "- Function exit when they encounter a `return` statement or when the indented block ends"
   ]
  },
  {
   "cell_type": "code",
   "execution_count": null,
   "metadata": {},
   "outputs": [],
   "source": [
    "def check_is_numeric(mystery_variable):\n",
    "    \"\"\"Check if a variable is numeric\"\"\"\n",
    "    if isinstance(mystery_variable, int) or isinstance(mystery_variable, float):\n",
    "        return True\n",
    "    return False"
   ]
  },
  {
   "cell_type": "code",
   "execution_count": null,
   "metadata": {},
   "outputs": [],
   "source": [
    "result = check_is_numeric(42)\n",
    "result"
   ]
  },
  {
   "cell_type": "code",
   "execution_count": null,
   "metadata": {},
   "outputs": [],
   "source": [
    "# If don't assign result to a variable, will just print\n",
    "check_is_numeric('squirrel')"
   ]
  },
  {
   "cell_type": "markdown",
   "metadata": {},
   "source": [
    "A simpler version of the same function"
   ]
  },
  {
   "cell_type": "code",
   "execution_count": null,
   "metadata": {},
   "outputs": [],
   "source": [
    "def check_is_numeric2(mystery_variable):\n",
    "    \"\"\"Check if a variable is numeric\"\"\"\n",
    "    return isinstance(mystery_variable, (int, float))"
   ]
  },
  {
   "cell_type": "markdown",
   "metadata": {},
   "source": [
    "If no return statement is encountered, the function returns `None` when it finishes."
   ]
  },
  {
   "cell_type": "code",
   "execution_count": null,
   "metadata": {},
   "outputs": [],
   "source": [
    "def say_my_name(name, what_to_say = \"you look good today\"):\n",
    "    \"\"\"Say something to me (demonstrate default argument)\"\"\"\n",
    "    print(f\"Hi there {name}, {what_to_say}.\")"
   ]
  },
  {
   "cell_type": "code",
   "execution_count": null,
   "metadata": {},
   "outputs": [],
   "source": [
    "message = say_my_name('David')\n",
    "print(\"The message:\", message)\n",
    "type(message)"
   ]
  },
  {
   "cell_type": "markdown",
   "metadata": {},
   "source": [
    "If you want to accept a variable number of argument, JS-style -"
   ]
  },
  {
   "cell_type": "code",
   "execution_count": null,
   "metadata": {},
   "outputs": [],
   "source": [
    "def heteroflexible_function(*args, **kwargs):\n",
    "    \"\"\"A function that takes named or unnamed arguments\"\"\"\n",
    "    for arg in args:\n",
    "        print(\"I'm an arg alright:\", arg)\n",
    "    for key, value in kwargs.items():\n",
    "        print(key, \"is\", value)"
   ]
  },
  {
   "cell_type": "code",
   "execution_count": null,
   "metadata": {},
   "outputs": [],
   "source": [
    "heteroflexible_function(6, False, dingbat='Gustav', **{'science': 'cool', 'truth': 'unattainable'})"
   ]
  },
  {
   "cell_type": "markdown",
   "metadata": {},
   "source": [
    "#### 2.2.1. A note on typing\n",
    "- Python is *weakly dynamically typed*, so you can legally pass anything into functions, and it may or may not explode at runtime\n",
    "- Consequence: quick and fun to write code, harder to maintain (and harder to read other people's code)\n",
    "- Solution: When appropriate, please be generous and provide **type hints**!"
   ]
  },
  {
   "cell_type": "code",
   "execution_count": null,
   "metadata": {},
   "outputs": [],
   "source": [
    "from typing import Iterable\n",
    "\n",
    "def get_nth_word(list_of_word: Iterable[str], index: int = 0) -> str:\n",
    "    \"\"\"Sort a list of words alphabetically then get the Nth word\"\"\"\n",
    "    sorted_words = sorted(list_of_words)  # Creates a new list object\n",
    "    try:\n",
    "        return sorted_words[index]\n",
    "    except IndexError:\n",
    "        # Return the last word if list not long enough\n",
    "        return sorted_words[-1]"
   ]
  },
  {
   "cell_type": "markdown",
   "metadata": {},
   "source": [
    "#### 2.2.2 Lambda functions\n",
    "These are probably quite familiar to Javascript(ers?)"
   ]
  },
  {
   "cell_type": "code",
   "execution_count": null,
   "metadata": {},
   "outputs": [],
   "source": [
    "# Revisit an earlier variable\n",
    "words.sort()\n",
    "words"
   ]
  },
  {
   "cell_type": "code",
   "execution_count": null,
   "metadata": {},
   "outputs": [],
   "source": [
    "# What if we want to sort by the last letter not the first?\n",
    "words.sort(key=lambda x: x[-1])\n",
    "words"
   ]
  },
  {
   "cell_type": "markdown",
   "metadata": {},
   "source": [
    "### 2.3. Control flow\n",
    "- Indentation (4 spaces) used instead of curly braces"
   ]
  },
  {
   "cell_type": "code",
   "execution_count": null,
   "metadata": {},
   "outputs": [],
   "source": [
    "temperature = 22\n",
    "windy = False\n",
    "\n",
    "if temperature < 18:\n",
    "    clothes = 'jacket'\n",
    "elif 18 <= temperature < 25:\n",
    "    if windy:\n",
    "        clothes = 'windbreaker'\n",
    "    clothes = 'shirt'\n",
    "else:\n",
    "    clothes = 'singlet'\n",
    "\n",
    "print(\"Aaaand we're wearing...\", clothes)"
   ]
  },
  {
   "cell_type": "code",
   "execution_count": null,
   "metadata": {},
   "outputs": [],
   "source": [
    "for i, tool in enumerate(['spanner', 'wrench', 'spirit level']):\n",
    "    print(tool * (i + 1))"
   ]
  },
  {
   "cell_type": "code",
   "execution_count": null,
   "metadata": {},
   "outputs": [],
   "source": [
    "blocks = 3\n",
    "stacked = 0\n",
    "\n",
    "while blocks >= 0:\n",
    "    word = 'blocks'\n",
    "    if stacked == 1:\n",
    "        word = 'block'\n",
    "    print(f\"{stacked} stacked {word} and {blocks} to go\")\n",
    "    blocks -= 1\n",
    "    stacked += 1"
   ]
  },
  {
   "cell_type": "markdown",
   "metadata": {},
   "source": [
    "### 2.4. Mutability\n",
    "(Does JavaScript doesn't have mutability? Something about Redux...)\n",
    "\n",
    "To recap:\n",
    "- The built-in immutable types are: `int`, `float`, `bool`, `str`, `tuple`, `frozenset`\n",
    "- The built-in mutable types are: `list`, `set`, `dict`\n",
    "\n",
    "User-defined classes are mutable (unless you do some fancy work to prevent it)."
   ]
  },
  {
   "cell_type": "code",
   "execution_count": null,
   "metadata": {},
   "outputs": [],
   "source": [
    "x = 6\n",
    "y = x"
   ]
  },
  {
   "cell_type": "code",
   "execution_count": null,
   "metadata": {},
   "outputs": [],
   "source": [
    "print(f\"x: {x}, y: {y}\")\n",
    "x == y"
   ]
  },
  {
   "cell_type": "code",
   "execution_count": null,
   "metadata": {},
   "outputs": [],
   "source": [
    "x = 7"
   ]
  },
  {
   "cell_type": "code",
   "execution_count": null,
   "metadata": {},
   "outputs": [],
   "source": [
    "print(f\"x: {x}, y: {y}\")\n",
    "x == y"
   ]
  },
  {
   "cell_type": "code",
   "execution_count": null,
   "metadata": {},
   "outputs": [],
   "source": [
    "biology = {\n",
    "    'brains': 'squishy',\n",
    "    'kidneys': 'also squishy'\n",
    "}\n",
    "\n",
    "organs = biology"
   ]
  },
  {
   "cell_type": "code",
   "execution_count": null,
   "metadata": {},
   "outputs": [],
   "source": [
    "print(biology)\n",
    "print(organs)\n",
    "organs == biology"
   ]
  },
  {
   "cell_type": "code",
   "execution_count": null,
   "metadata": {},
   "outputs": [],
   "source": [
    "biology['bones'] = 'hard'"
   ]
  },
  {
   "cell_type": "code",
   "execution_count": null,
   "metadata": {},
   "outputs": [],
   "source": [
    "print(biology)\n",
    "print(organs)\n",
    "organs == biology"
   ]
  },
  {
   "cell_type": "code",
   "execution_count": null,
   "metadata": {},
   "outputs": [],
   "source": [
    "soft_organs = organs.copy()\n",
    "del soft_organs['bones']\n",
    "soft_organs"
   ]
  },
  {
   "cell_type": "code",
   "execution_count": null,
   "metadata": {},
   "outputs": [],
   "source": [
    "organs"
   ]
  },
  {
   "cell_type": "markdown",
   "metadata": {},
   "source": [
    "Handy way to think about it:\n",
    "- Mutable variables point to a living object\n",
    "- Immutable variables hold a set value\n",
    "\n",
    "This brings us to something to be wary of."
   ]
  },
  {
   "cell_type": "code",
   "execution_count": null,
   "metadata": {},
   "outputs": [],
   "source": [
    "def danger_function(new_int: int, a_list = [2, 3, 4]):\n",
    "    \"\"\"\n",
    "    It's an anti-pattern in Python to provide a default argument that's mutable\n",
    "    \"\"\"\n",
    "    a_list.append(new_int)\n",
    "    return a_list"
   ]
  },
  {
   "cell_type": "code",
   "execution_count": null,
   "metadata": {},
   "outputs": [],
   "source": [
    "test_list = danger_function(5)\n",
    "test_list"
   ]
  },
  {
   "cell_type": "code",
   "execution_count": null,
   "metadata": {},
   "outputs": [],
   "source": [
    "test_list = danger_function(5)\n",
    "test_list"
   ]
  },
  {
   "cell_type": "markdown",
   "metadata": {},
   "source": [
    "### 2.5. Classes & objects\n",
    "\n",
    "Classes are a way to couple attributes (variables) and methods (functions)"
   ]
  },
  {
   "cell_type": "code",
   "execution_count": null,
   "metadata": {},
   "outputs": [],
   "source": [
    "cat = ('Mammalia', 4, False)\n",
    "tick = ('Arachnida', 8, True)\n",
    "starfish = ('Asteroidea', 5, True)"
   ]
  },
  {
   "cell_type": "code",
   "execution_count": null,
   "metadata": {},
   "outputs": [],
   "source": [
    "class Animal:\n",
    "    \"\"\"An object to represent important aspects of animals\"\"\"\n",
    "\n",
    "    def __init__(self, animal: str, num_legs: int, has_jaws: bool):\n",
    "        \"\"\"\n",
    "        This is the constructor which gets called when you instantiate an\n",
    "        Animal object\n",
    "        \"\"\"\n",
    "        self.animal = animal\n",
    "        self.num_legs = num_legs\n",
    "        self.has_jaws = has_jaws\n",
    "        self.lives = self._calculate_lives(animal)\n",
    "\n",
    "    def _calculate_lives(self, animal):\n",
    "        \"\"\"A private method called by the constructor only\"\"\"\n",
    "        if animal.lower() == 'cat':\n",
    "            return 9\n",
    "        return 1\n",
    "\n",
    "    def feed(self):\n",
    "        \"\"\"Have a nom\"\"\"\n",
    "        if self.has_jaws:\n",
    "            return \"Chewing away\"\n",
    "        # Implicit `else`\n",
    "        return \"Secreting digestive enzymes...\"\n",
    "\n",
    "    def advance(self, speed: str = 'slowly'):\n",
    "        \"\"\"Move forwards\"\"\"\n",
    "        if speed == 'slowly':\n",
    "            if self.num_legs % 2 == 0:\n",
    "                return \"Walking forward\"\n",
    "            return \"Slithering along\"\n",
    "        elif speed == 'quickly':\n",
    "            if self.num_legs % 2 == 0:\n",
    "                return \"Running!\"\n",
    "            return \"Slithering disturbingly quickly\"\n",
    "        raise ValueError(\"`speed` must be 'quickly' or 'slowly', got:\", speed)\n",
    "\n",
    "    def __str__(self):\n",
    "        \"\"\"Define how the object prints\"\"\"\n",
    "        word = 'life' if self.lives == 1 else 'lives'\n",
    "        return f\"{self.animal.title()} with {self.num_legs} legs, {self.lives} {word} remaining\""
   ]
  },
  {
   "cell_type": "code",
   "execution_count": null,
   "metadata": {},
   "outputs": [],
   "source": [
    "print(Animal)"
   ]
  },
  {
   "cell_type": "code",
   "execution_count": null,
   "metadata": {},
   "outputs": [],
   "source": [
    "mr_meowmeow = Animal('cat', 4, True)\n",
    "leggalot = Animal('starfish', 5, False)"
   ]
  },
  {
   "cell_type": "code",
   "execution_count": null,
   "metadata": {},
   "outputs": [],
   "source": [
    "print(mr_meowmeow)\n",
    "print(leggalot)"
   ]
  },
  {
   "cell_type": "code",
   "execution_count": null,
   "metadata": {},
   "outputs": [],
   "source": [
    "mr_meowmeow.advance('slowly')"
   ]
  },
  {
   "cell_type": "code",
   "execution_count": null,
   "metadata": {},
   "outputs": [],
   "source": [
    "# Oh no!\n",
    "mr_meowmeow.lives -= 1\n",
    "print(mr_meowmeow)"
   ]
  },
  {
   "cell_type": "code",
   "execution_count": null,
   "metadata": {},
   "outputs": [],
   "source": [
    "print(leggalot.feed())"
   ]
  },
  {
   "cell_type": "code",
   "execution_count": null,
   "metadata": {},
   "outputs": [],
   "source": [
    "class Mammal(Animal):\n",
    "    \"\"\"A subclass of Animal; inherits everything\"\"\"\n",
    "    def __init__(self, animal: str, herbivore: bool):\n",
    "        \"\"\"\n",
    "        Because this is a subclass, we must use `super` to access the\n",
    "        __init__ (constructor) of the parent class.\n",
    "        \"\"\"\n",
    "        super().__init__(animal=animal, num_legs=4, has_jaws=True)\n",
    "        self.herbivore = herbivore\n",
    "\n",
    "    def feed(self):\n",
    "        \"\"\"Overload this method from the parent class\"\"\"\n",
    "        if self.herbivore:\n",
    "            return \"Chew some cud\"\n",
    "        return \"Better go kill something\"\n",
    "        \n",
    "    def feed_young(self):\n",
    "        \"\"\"A special mammal power\"\"\"\n",
    "        return \"Milk time!\""
   ]
  },
  {
   "cell_type": "code",
   "execution_count": null,
   "metadata": {},
   "outputs": [],
   "source": [
    "maru = Mammal('cat', False)\n",
    "print(maru)"
   ]
  },
  {
   "cell_type": "code",
   "execution_count": null,
   "metadata": {},
   "outputs": [],
   "source": [
    "maru.feed()"
   ]
  },
  {
   "cell_type": "markdown",
   "metadata": {},
   "source": [
    "## 3. Code quality: YAPF & Pylint\n",
    "A brief aside to mention a couple of useful tools for making sure your Python is up to scratch and looking pretty.\n",
    "\n",
    "The holy book of Python style is called [PEP8](https://www.python.org/dev/peps/pep-0008/). Intermediate Pythoners should definitely check it out.\n",
    "\n",
    "- By default VS Code asks to install `Pylint`, which is a pretty good option for basic PEP8 compliance.\n",
    "- Another great addition is `YAPF` to automatically format all code consistently. We'll probably move to having it as a pre-commit hook.\n",
    "- NB there are a bunch of other linters and formatters (`Black`, `Mypy`, `Autopep8` etc).\n",
    "\n",
    "Here we gooo!\n",
    "\n",
    "    pip install pylint yapf\n",
    "    \n",
    "    # Lint file\n",
    "    pylint {filename}\n",
    "\n",
    "    # Auto-format [see diff/change in-place]\n",
    "    yapf {filename} -d/-i"
   ]
  },
  {
   "cell_type": "markdown",
   "metadata": {},
   "source": [
    "## 4. Data wrangling: Numpy & Pandas\n",
    "For anything involving tabular data, matrices, non-trivial mathematical operations etc, life is infinitely better with `Numpy` and `Pandas`.\n",
    "  - Almost always imported as `np` and `pd` by convention"
   ]
  },
  {
   "cell_type": "code",
   "execution_count": null,
   "metadata": {},
   "outputs": [],
   "source": [
    "import numpy as np\n",
    "import pandas as pd\n",
    "\n",
    "# A useful option to make Pandas show more columns than the default\n",
    "pd.set_option('display.max_columns', 200)"
   ]
  },
  {
   "cell_type": "markdown",
   "metadata": {},
   "source": [
    "### 4.1. Speed\n",
    "The standard implementation of Python, while written in C, is undeniably pretty slow. Due to:\n",
    "- High-level\n",
    "- Dynamic typing (lots more lookups to do)\n",
    "- The infamous GIL (\"global interpreter lock\" - a mutex that allows only one thread to hold the control of the Python interpreter)\n",
    "  - (Python uses reference counting for memory management, so the GIL protects from race conditions where two threads change its value simultaneously. Also means no deadlocks, as only one lock)\n",
    "\n",
    "HOWEVER, there are a bunch of Python libraries that run in optimised C code which can achieve excellent speeds.\n",
    "\n",
    "The take-home is that you should always avoid using loops if you can, and instead use \"vectorized methods\". Let's see how long it takes to find the mean of a list using pure Python versus two important packages: `Numpy` and `Pandas`."
   ]
  },
  {
   "cell_type": "code",
   "execution_count": null,
   "metadata": {},
   "outputs": [],
   "source": [
    "def mean(list_of_nums):\n",
    "    \"\"\"Find the mean of a list of numbers\"\"\"\n",
    "    total = 0\n",
    "    for num in list_of_nums:\n",
    "        total += num\n",
    "    return total / len(list_of_nums)"
   ]
  },
  {
   "cell_type": "code",
   "execution_count": null,
   "metadata": {},
   "outputs": [],
   "source": [
    "# Use Numpy to generate a bunch of random ints\n",
    "num_array = np.random.randint(low=0, high=100, size=1000000)\n",
    "num_list = list(num_array)  # Python unpacks Numpy arrays into lists, so do that here"
   ]
  },
  {
   "cell_type": "code",
   "execution_count": null,
   "metadata": {},
   "outputs": [],
   "source": [
    "type(num_array)"
   ]
  },
  {
   "cell_type": "markdown",
   "metadata": {},
   "source": [
    "This is a new data type*. It has an enormous number of build-in methods.\n",
    "\n",
    "\\**I believe `np.ndarray` objects implemented as true arrays, whereas Python `list` objects are linked lists.*"
   ]
  },
  {
   "cell_type": "code",
   "execution_count": null,
   "metadata": {},
   "outputs": [],
   "source": [
    "%%time\n",
    "mean(num_list)"
   ]
  },
  {
   "cell_type": "code",
   "execution_count": null,
   "metadata": {},
   "outputs": [],
   "source": [
    "%%time\n",
    "num_array.mean()"
   ]
  },
  {
   "cell_type": "code",
   "execution_count": null,
   "metadata": {},
   "outputs": [],
   "source": [
    "# Can also call Numpy's mean() method on any iterable\n",
    "%time np.mean(num_array)\n",
    "%time np.mean(num_list)  # Slower because must load into an ndarray first"
   ]
  },
  {
   "cell_type": "markdown",
   "metadata": {},
   "source": [
    "`Pandas` is sort of like a wrapper around `Numpy` for tabular data. It stores its data in `Numpy` format and offers many of the same functionalities, and is more optimised for Excel-type operations like creating pivot tables, and/or visualising data a bit easier."
   ]
  },
  {
   "cell_type": "code",
   "execution_count": null,
   "metadata": {},
   "outputs": [],
   "source": [
    "# Load the array into a Pandas `Series` object\n",
    "series = pd.Series(num_array)\n",
    "series.iloc[:10]"
   ]
  },
  {
   "cell_type": "code",
   "execution_count": null,
   "metadata": {},
   "outputs": [],
   "source": [
    "%%time\n",
    "series.mean()"
   ]
  },
  {
   "cell_type": "markdown",
   "metadata": {},
   "source": [
    "### 4.2. Working with files\n",
    "To deal with file paths, the standard library `pathlib` is the way to go.\n",
    "- NB that this is a newish library introduced in Python 3, so a lot of old code samples use the `os` library\n",
    "- (`os` does a lot more than `pathlib`, so it's still good for other things)"
   ]
  },
  {
   "cell_type": "code",
   "execution_count": null,
   "metadata": {},
   "outputs": [],
   "source": [
    "from pathlib import Path\n",
    "\n",
    "# Look up the current working directory\n",
    "cwd = Path.cwd()\n",
    "cwd"
   ]
  },
  {
   "cell_type": "markdown",
   "metadata": {},
   "source": [
    "Let's get a list of all the files in this directory."
   ]
  },
  {
   "cell_type": "code",
   "execution_count": null,
   "metadata": {},
   "outputs": [],
   "source": [
    "local_files = cwd.glob(\"*\")  # '*' matches all files"
   ]
  },
  {
   "cell_type": "code",
   "execution_count": null,
   "metadata": {},
   "outputs": [],
   "source": [
    "local_files"
   ]
  },
  {
   "cell_type": "markdown",
   "metadata": {},
   "source": [
    "*Generators* are a little advanced to explain properly right now.\n",
    "- They are like a list that hasn't been computed yet\n",
    "- You can only ever look at the next item in a generator, and it is then discarded when you move onto the following item\n",
    "- You can always cast a generator to a list for simplicity"
   ]
  },
  {
   "cell_type": "code",
   "execution_count": null,
   "metadata": {},
   "outputs": [],
   "source": [
    "local_files = list(local_files)\n",
    "local_files"
   ]
  },
  {
   "cell_type": "code",
   "execution_count": null,
   "metadata": {},
   "outputs": [],
   "source": [
    "# Use Pandas to read in a sample dataset about adult income\n",
    "# https://archive.ics.uci.edu/ml/datasets/Adult\n",
    "ecg_path = cwd / 'income.csv'\n",
    "df = pd.read_csv(ecg_path)\n",
    "df.shape"
   ]
  },
  {
   "cell_type": "code",
   "execution_count": null,
   "metadata": {},
   "outputs": [],
   "source": [
    "df.head()"
   ]
  },
  {
   "cell_type": "markdown",
   "metadata": {},
   "source": [
    "### 4.2. Wrangling\n",
    "`Pandas` is really its a whole micro-language, so I'll just demonstrate a few common operations."
   ]
  },
  {
   "cell_type": "code",
   "execution_count": null,
   "metadata": {},
   "outputs": [],
   "source": [
    "df.dtypes[:6]"
   ]
  },
  {
   "cell_type": "markdown",
   "metadata": {},
   "source": [
    "Pandas doesn't really have a `str` data type, so any columns with strings will be generalised to `object` type (everything is an object in Python). Be careful, as there could be other data types like numbers in these object columns."
   ]
  },
  {
   "cell_type": "code",
   "execution_count": null,
   "metadata": {},
   "outputs": [],
   "source": [
    "# Get statistical summary of all numeric columns\n",
    "df.describe()"
   ]
  },
  {
   "cell_type": "markdown",
   "metadata": {},
   "source": [
    "DataFrame are basically a column index, a row index and a *[n x m]* array of Numpy data."
   ]
  },
  {
   "cell_type": "code",
   "execution_count": null,
   "metadata": {},
   "outputs": [],
   "source": [
    "# columns\n",
    "df.columns"
   ]
  },
  {
   "cell_type": "code",
   "execution_count": null,
   "metadata": {},
   "outputs": [],
   "source": [
    "# In this case our index is just an incrementing integer, not labels\n",
    "df.index[:10]"
   ]
  },
  {
   "cell_type": "code",
   "execution_count": null,
   "metadata": {},
   "outputs": [],
   "source": [
    "type(df.values)"
   ]
  },
  {
   "cell_type": "code",
   "execution_count": null,
   "metadata": {},
   "outputs": [],
   "source": [
    "df.values"
   ]
  },
  {
   "cell_type": "code",
   "execution_count": null,
   "metadata": {},
   "outputs": [],
   "source": [
    "# Index first 5 rows and columns 3-5 (remember 0-indexing)\n",
    "df.iloc[:5, 3:6]"
   ]
  },
  {
   "cell_type": "code",
   "execution_count": null,
   "metadata": {},
   "outputs": [],
   "source": [
    "# You can also index by label, which indexes inclusively\n",
    "# In this case\n",
    "df.loc[:4, 'education':'marital-status']"
   ]
  },
  {
   "cell_type": "code",
   "execution_count": null,
   "metadata": {},
   "outputs": [],
   "source": [
    "# Grab a selection of columns - shortcut for df.iloc[:, [cols...]]\n",
    "df[['relationship', 'workclass']].head()"
   ]
  },
  {
   "cell_type": "code",
   "execution_count": null,
   "metadata": {},
   "outputs": [],
   "source": [
    "# Grab a selection of rows\n",
    "df[1000:1005]"
   ]
  },
  {
   "cell_type": "code",
   "execution_count": null,
   "metadata": {},
   "outputs": [],
   "source": [
    "# Can pull out a single column to a pd.Series object\n",
    "salaries = df['salary']\n",
    "salaries"
   ]
  },
  {
   "cell_type": "code",
   "execution_count": null,
   "metadata": {},
   "outputs": [],
   "source": [
    "salaries.value_counts()"
   ]
  },
  {
   "cell_type": "code",
   "execution_count": null,
   "metadata": {},
   "outputs": [],
   "source": [
    "salaries.unique()"
   ]
  },
  {
   "cell_type": "code",
   "execution_count": null,
   "metadata": {},
   "outputs": [],
   "source": [
    "rich_df = df[df['salary'] == ' >50K']\n",
    "rich_df.shape"
   ]
  },
  {
   "cell_type": "code",
   "execution_count": null,
   "metadata": {},
   "outputs": [],
   "source": [
    "df['occupation'].value_counts()"
   ]
  },
  {
   "cell_type": "code",
   "execution_count": null,
   "metadata": {},
   "outputs": [],
   "source": [
    "df['workclass'].value_counts()"
   ]
  },
  {
   "cell_type": "code",
   "execution_count": null,
   "metadata": {},
   "outputs": [],
   "source": [
    "# Filter with multiple criteria\n",
    "# Find all craft repairs and sales government workers (yes this is contrived)\n",
    "df[(df['occupation'].isin({' Craft-repair', ' Sales'})) & \n",
    "   (df['workclass'].str.contains('gov'))]"
   ]
  },
  {
   "cell_type": "markdown",
   "metadata": {},
   "source": [
    "Some common tasks are counting values, perhaps by another category."
   ]
  },
  {
   "cell_type": "code",
   "execution_count": null,
   "metadata": {},
   "outputs": [],
   "source": [
    "df.groupby('sex')['hours-per-week'].mean()"
   ]
  },
  {
   "cell_type": "code",
   "execution_count": null,
   "metadata": {},
   "outputs": [],
   "source": [
    "df.groupby('marital-status').agg({\n",
    "    'age': 'median',\n",
    "    'capital-gain': 'max',\n",
    "    'capital-loss': 'std',\n",
    "    'native-country': 'count',\n",
    "    'salary': lambda series: (series == '>50k').count()\n",
    "})"
   ]
  },
  {
   "cell_type": "markdown",
   "metadata": {},
   "source": [
    "Pivot tables are handy too"
   ]
  },
  {
   "cell_type": "code",
   "execution_count": null,
   "metadata": {},
   "outputs": [],
   "source": [
    "df.pivot_table(index='marital-status', columns='race',\n",
    "               values='age', aggfunc='median')"
   ]
  },
  {
   "cell_type": "code",
   "execution_count": null,
   "metadata": {},
   "outputs": [],
   "source": [
    "df.pivot_table(index='education', columns='sex',\n",
    "               values='hours-per-week', aggfunc='mean')"
   ]
  },
  {
   "cell_type": "markdown",
   "metadata": {},
   "source": [
    "### 4.3 Plotting\n",
    "Finally, a quick demo of using the most standard plotting package: `matplotlib`"
   ]
  },
  {
   "cell_type": "code",
   "execution_count": null,
   "metadata": {},
   "outputs": [],
   "source": [
    "# Read in some sample ECG data\n",
    "ecg_path = cwd / 'ecg.csv'\n",
    "ecg_df = pd.read_csv(ecg_path)\n",
    "print(ecg_df.shape)\n",
    "ecg_df.head()"
   ]
  },
  {
   "cell_type": "code",
   "execution_count": null,
   "metadata": {},
   "outputs": [],
   "source": [
    "ecg_df.mean()"
   ]
  },
  {
   "cell_type": "markdown",
   "metadata": {},
   "source": [
    "We'll plot the three lines on a single axes for simplicity, so to separate the signals we'll add some constants."
   ]
  },
  {
   "cell_type": "code",
   "execution_count": null,
   "metadata": {},
   "outputs": [],
   "source": [
    "ecg_df['ECG1'] += 0.002\n",
    "ecg_df['ECG2'] += 0.001\n",
    "ecg_df.head()"
   ]
  },
  {
   "cell_type": "markdown",
   "metadata": {},
   "source": [
    "Matplotlib involves creating a figure, then one or more axes for that figure, then adding series to the axes."
   ]
  },
  {
   "cell_type": "code",
   "execution_count": null,
   "metadata": {},
   "outputs": [],
   "source": [
    "import matplotlib.pyplot as plt\n",
    "# plt.style.use('seaborn-whitegrid')"
   ]
  },
  {
   "cell_type": "code",
   "execution_count": null,
   "metadata": {},
   "outputs": [],
   "source": [
    "fig = plt.figure()\n",
    "ax = plt.axes()"
   ]
  },
  {
   "cell_type": "code",
   "execution_count": null,
   "metadata": {},
   "outputs": [],
   "source": [
    "for col in ecg_df.columns:\n",
    "    plt.plot(ecg_df.index, ecg_df[col])"
   ]
  },
  {
   "cell_type": "code",
   "execution_count": null,
   "metadata": {},
   "outputs": [],
   "source": [
    "from signal_filter import fir_filter"
   ]
  },
  {
   "cell_type": "code",
   "execution_count": null,
   "metadata": {},
   "outputs": [],
   "source": [
    "filter_df = ecg_df.copy()"
   ]
  },
  {
   "cell_type": "code",
   "execution_count": null,
   "metadata": {},
   "outputs": [],
   "source": [
    "test_df = filter_df.apply(fir_filter)"
   ]
  },
  {
   "cell_type": "code",
   "execution_count": null,
   "metadata": {},
   "outputs": [],
   "source": [
    "test_df.head()"
   ]
  },
  {
   "cell_type": "code",
   "execution_count": null,
   "metadata": {},
   "outputs": [],
   "source": [
    "plt.subplot(311)\n",
    "plt.plot(test_df.index, test_df['ECG1'])\n",
    "plt.subplot(312)\n",
    "plt.plot(test_df.index, test_df['ECG2'])\n",
    "plt.subplot(313)\n",
    "plt.plot(test_df.index, test_df['ECG3']);"
   ]
  },
  {
   "cell_type": "code",
   "execution_count": null,
   "metadata": {},
   "outputs": [],
   "source": []
  }
 ],
 "metadata": {
  "kernelspec": {
   "display_name": "Python 3",
   "language": "python",
   "name": "python3"
  },
  "language_info": {
   "codemirror_mode": {
    "name": "ipython",
    "version": 3
   },
   "file_extension": ".py",
   "mimetype": "text/x-python",
   "name": "python",
   "nbconvert_exporter": "python",
   "pygments_lexer": "ipython3",
   "version": "3.7.5"
  }
 },
 "nbformat": 4,
 "nbformat_minor": 4
}
